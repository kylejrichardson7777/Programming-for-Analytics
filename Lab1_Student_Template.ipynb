{
 "cells": [
  {
   "cell_type": "markdown",
   "id": "82e146db",
   "metadata": {},
   "source": [
    "# AYTS 5001 - Lab 1 Template\n",
    "**Getting Started with Python**\n",
    "\n",
    "Fill in the code cells below as you work through the lab tasks."
   ]
  },
  {
   "cell_type": "markdown",
   "id": "77367188",
   "metadata": {},
   "source": [
    "## 1. Environment Setup\n",
    "Run the cell below to confirm your environment works by printing out \"Hello, world!\":"
   ]
  },
  {
   "cell_type": "code",
   "execution_count": null,
   "id": "22c707df",
   "metadata": {},
   "outputs": [],
   "source": [
    "# Your code here\n"
   ]
  },
  {
   "cell_type": "markdown",
   "id": "43cb7a5d",
   "metadata": {},
   "source": [
    "## 2. Variables and Data Types\n",
    "Create and print variables with different data types."
   ]
  },
  {
   "cell_type": "code",
   "execution_count": null,
   "id": "bbb49404",
   "metadata": {},
   "outputs": [],
   "source": [
    "# Your code here\n"
   ]
  },
  {
   "cell_type": "markdown",
   "id": "51edfac6",
   "metadata": {},
   "source": [
    "## 3. Input and Output\n",
    "Use input() and print() to interact with the user."
   ]
  },
  {
   "cell_type": "code",
   "execution_count": null,
   "id": "fdfbea71",
   "metadata": {},
   "outputs": [],
   "source": [
    "# Your code here\n"
   ]
  },
  {
   "cell_type": "markdown",
   "id": "a5916c24",
   "metadata": {},
   "source": [
    "## 4. Expressions and Calculations\n",
    "Write a program that calculates the area and perimeter of a rectangle."
   ]
  },
  {
   "cell_type": "code",
   "execution_count": null,
   "id": "6a27b529",
   "metadata": {},
   "outputs": [],
   "source": [
    "# Your code here\n"
   ]
  },
  {
   "cell_type": "markdown",
   "id": "b1452e25",
   "metadata": {},
   "source": [
    "## 5. Git Basics\n",
    "(Write down Git commands you used or plan to use.)"
   ]
  },
  {
   "cell_type": "code",
   "execution_count": null,
   "id": "5ed8bb2e",
   "metadata": {},
   "outputs": [],
   "source": [
    "# This section can include shell commands or notes\n"
   ]
  },
  {
   "cell_type": "markdown",
   "id": "b152a45d",
   "metadata": {},
   "source": [
    "## 6. Extension Challenge: BMI Calculator\n",
    "(Optional) Write a program to calculate and print the BMI."
   ]
  },
  {
   "cell_type": "code",
   "execution_count": null,
   "id": "e215a357",
   "metadata": {},
   "outputs": [],
   "source": [
    "# Your code here\n"
   ]
  }
 ],
 "metadata": {
  "kernelspec": {
   "display_name": "Python 3 (ipykernel)",
   "language": "python",
   "name": "python3"
  },
  "language_info": {
   "codemirror_mode": {
    "name": "ipython",
    "version": 3
   },
   "file_extension": ".py",
   "mimetype": "text/x-python",
   "name": "python",
   "nbconvert_exporter": "python",
   "pygments_lexer": "ipython3",
   "version": "3.9.13"
  }
 },
 "nbformat": 4,
 "nbformat_minor": 5
}
