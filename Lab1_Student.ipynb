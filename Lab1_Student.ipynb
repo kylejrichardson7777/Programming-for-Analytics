{
 "cells": [
  {
   "cell_type": "markdown",
   "id": "82e146db",
   "metadata": {},
   "source": [
    "# AYTS 5001 - Lab 1 Template\n",
    "**Getting Started with Python**\n",
    "\n",
    "Fill in the code cells below as you work through the lab tasks."
   ]
  },
  {
   "cell_type": "markdown",
   "id": "77367188",
   "metadata": {},
   "source": [
    "## 1. Environment Setup\n",
    "Run the cell below to confirm your environment works by printing out \"Hello, world!\":"
   ]
  },
  {
   "cell_type": "code",
   "execution_count": 2,
   "id": "22c707df",
   "metadata": {},
   "outputs": [
    {
     "name": "stdout",
     "output_type": "stream",
     "text": [
      "hello, world!\n"
     ]
    }
   ],
   "source": [
    "print(\"hello, world!\")\n"
   ]
  },
  {
   "cell_type": "markdown",
   "id": "43cb7a5d",
   "metadata": {},
   "source": [
    "## 2. Variables and Data Types\n",
    "Create and print variables with different data types."
   ]
  },
  {
   "cell_type": "code",
   "execution_count": 7,
   "id": "bbb49404",
   "metadata": {},
   "outputs": [
    {
     "name": "stdout",
     "output_type": "stream",
     "text": [
      "kyle + 3 + 2.2\n"
     ]
    }
   ],
   "source": [
    "name = \"kyle\"\n",
    "integer = 3\n",
    "floatt = 2.2\n",
    "print(f\"{name} + {integer} + {floatt}\")"
   ]
  },
  {
   "cell_type": "markdown",
   "id": "51edfac6",
   "metadata": {},
   "source": [
    "## 3. Input and Output\n",
    "Use input() and print() to interact with the user."
   ]
  },
  {
   "cell_type": "code",
   "execution_count": 8,
   "id": "fdfbea71",
   "metadata": {},
   "outputs": [
    {
     "name": "stdin",
     "output_type": "stream",
     "text": [
      " your name :  kyle\n"
     ]
    }
   ],
   "source": [
    "name = input(\" your name : \")\n",
    "\n"
   ]
  },
  {
   "cell_type": "markdown",
   "id": "a5916c24",
   "metadata": {},
   "source": [
    "## 4. Expressions and Calculations\n",
    "Write a program that calculates the area and perimeter of a rectangle."
   ]
  },
  {
   "cell_type": "code",
   "execution_count": 11,
   "id": "6a27b529",
   "metadata": {},
   "outputs": [
    {
     "name": "stdout",
     "output_type": "stream",
     "text": [
      "6\n",
      "10\n"
     ]
    }
   ],
   "source": [
    "height = 3\n",
    "length = 2\n",
    "\n",
    "print(height*length)\n",
    "print( height * 2 + length * 2)"
   ]
  },
  {
   "cell_type": "markdown",
   "id": "b1452e25",
   "metadata": {},
   "source": [
    "## 5. Git Basics\n",
    "(Write down Git commands you used or plan to use.)"
   ]
  },
  {
   "cell_type": "code",
   "execution_count": null,
   "id": "5ed8bb2e",
   "metadata": {},
   "outputs": [],
   "source": [
    "\n"
   ]
  },
  {
   "cell_type": "markdown",
   "id": "b152a45d",
   "metadata": {},
   "source": [
    "## 6. Extension Challenge: BMI Calculator\n",
    "(Optional) Write a program to calculate and print the BMI."
   ]
  },
  {
   "cell_type": "code",
   "execution_count": 18,
   "id": "e215a357",
   "metadata": {},
   "outputs": [
    {
     "name": "stdout",
     "output_type": "stream",
     "text": [
      "24.41\n"
     ]
    }
   ],
   "source": [
    "weight = 180\n",
    "height = 72 \n",
    "bmi = weight/height**2 * 703\n",
    "print(round(bmi,2))"
   ]
  },
  {
   "cell_type": "code",
   "execution_count": null,
   "id": "11afdd88-4d87-4e8d-8f4b-3b645dd087ab",
   "metadata": {},
   "outputs": [],
   "source": []
  }
 ],
 "metadata": {
  "kernelspec": {
   "display_name": "anaconda-panel-2023.05-py310",
   "language": "python",
   "name": "conda-env-anaconda-panel-2023.05-py310-py"
  },
  "language_info": {
   "codemirror_mode": {
    "name": "ipython",
    "version": 3
   },
   "file_extension": ".py",
   "mimetype": "text/x-python",
   "name": "python",
   "nbconvert_exporter": "python",
   "pygments_lexer": "ipython3",
   "version": "3.11.5"
  }
 },
 "nbformat": 4,
 "nbformat_minor": 5
}
